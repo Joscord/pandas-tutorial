{
 "cells": [
  {
   "cell_type": "code",
   "execution_count": 1,
   "metadata": {},
   "outputs": [],
   "source": [
    "# Importación de pandas\n",
    "import pandas as pd"
   ]
  },
  {
   "cell_type": "code",
   "execution_count": 8,
   "metadata": {},
   "outputs": [
    {
     "name": "stdout",
     "output_type": "stream",
     "text": [
      "   #       Name Type 1  Type 2  Total  HP  Attack  Defense  Sp. Atk  Sp. Def  \\\n",
      "0  1  Bulbasaur  Grass  Poison    318  45      49       49       65       65   \n",
      "1  2    Ivysaur  Grass  Poison    405  60      62       63       80       80   \n",
      "2  3   Venusaur  Grass  Poison    525  80      82       83      100      100   \n",
      "\n",
      "   Speed  Generation  Legendary  \n",
      "0     45           1      False  \n",
      "1     60           1      False  \n",
      "2     80           1      False  \n",
      "       #                 Name   Type 1 Type 2  Total  HP  Attack  Defense  \\\n",
      "797  720  HoopaHoopa Confined  Psychic  Ghost    600  80     110       60   \n",
      "798  720   HoopaHoopa Unbound  Psychic   Dark    680  80     160       60   \n",
      "799  721            Volcanion     Fire  Water    600  80     110      120   \n",
      "\n",
      "     Sp. Atk  Sp. Def  Speed  Generation  Legendary  \n",
      "797      150      130     70           6       True  \n",
      "798      170      130     80           6       True  \n",
      "799      130       90     70           6       True  \n",
      "(800, 13)\n",
      "Index(['#', 'Name', 'Type 1', 'Type 2', 'Total', 'HP', 'Attack', 'Defense',\n",
      "       'Sp. Atk', 'Sp. Def', 'Speed', 'Generation', 'Legendary'],\n",
      "      dtype='object')\n",
      "0                  Bulbasaur\n",
      "1                    Ivysaur\n",
      "2                   Venusaur\n",
      "3      VenusaurMega Venusaur\n",
      "4                 Charmander\n",
      "               ...          \n",
      "795                  Diancie\n",
      "796      DiancieMega Diancie\n",
      "797      HoopaHoopa Confined\n",
      "798       HoopaHoopa Unbound\n",
      "799                Volcanion\n",
      "Name: Name, Length: 800, dtype: object\n",
      "                      Name  Attack  Defense\n",
      "0                Bulbasaur      49       49\n",
      "1                  Ivysaur      62       63\n",
      "2                 Venusaur      82       83\n",
      "3    VenusaurMega Venusaur     100      123\n",
      "4               Charmander      52       43\n",
      "..                     ...     ...      ...\n",
      "795                Diancie     100      150\n",
      "796    DiancieMega Diancie     160      110\n",
      "797    HoopaHoopa Confined     110       60\n",
      "798     HoopaHoopa Unbound     160       60\n",
      "799              Volcanion     110      120\n",
      "\n",
      "[800 rows x 3 columns]\n",
      "#                   2\n",
      "Name          Ivysaur\n",
      "Type 1          Grass\n",
      "Type 2         Poison\n",
      "Total             405\n",
      "HP                 60\n",
      "Attack             62\n",
      "Defense            63\n",
      "Sp. Atk            80\n",
      "Sp. Def            80\n",
      "Speed              60\n",
      "Generation          1\n",
      "Legendary       False\n",
      "Name: 1, dtype: object\n"
     ]
    }
   ],
   "source": [
    "# Cargamos la data usando la función read_csv de pandas\n",
    "pokemons = pd.read_csv(\"./data/Pokemon.csv\")\n",
    "\n",
    "# Inspeccionamos la data\n",
    "print(pokemons.head(3))\n",
    "print(pokemons.tail(3))\n",
    "print(pokemons.shape)\n",
    "\n",
    "# Leyendo las columnas\n",
    "print(pokemons.columns)\n",
    "\n",
    "# Leyendo una columna\n",
    "print(pokemons[\"Name\"])\n",
    "\n",
    "# Leyendo múltiples columnas\n",
    "print(pokemons[[\"Name\", \"Attack\", \"Defense\"]])"
   ]
  },
  {
   "cell_type": "code",
   "execution_count": 16,
   "metadata": {},
   "outputs": [
    {
     "name": "stdout",
     "output_type": "stream",
     "text": [
      "#                   2\n",
      "Name          Ivysaur\n",
      "Type 1          Grass\n",
      "Type 2         Poison\n",
      "Total             405\n",
      "HP                 60\n",
      "Attack             62\n",
      "Defense            63\n",
      "Sp. Atk            80\n",
      "Sp. Def            80\n",
      "Speed              60\n",
      "Generation          1\n",
      "Legendary       False\n",
      "Name: 1, dtype: object\n",
      "   #                   Name Type 1  Type 2  Total  HP  Attack  Defense  \\\n",
      "0  1              Bulbasaur  Grass  Poison    318  45      49       49   \n",
      "1  2                Ivysaur  Grass  Poison    405  60      62       63   \n",
      "2  3               Venusaur  Grass  Poison    525  80      82       83   \n",
      "3  3  VenusaurMega Venusaur  Grass  Poison    625  80     100      123   \n",
      "\n",
      "   Sp. Atk  Sp. Def  Speed  Generation  Legendary  \n",
      "0       65       65     45           1      False  \n",
      "1       80       80     60           1      False  \n",
      "2      100      100     80           1      False  \n",
      "3      122      120     80           1      False  \n",
      "Ivysaur\n",
      "<generator object DataFrame.iterrows at 0x7f7f5da05740>\n"
     ]
    }
   ],
   "source": [
    "# Leyendo una fila a través de su índice. Esto devuelve una serie de pandas\n",
    "print(pokemons.iloc[1])\n",
    "\n",
    "# Leyendo múltiples filas. Aquí estamos leyendo desde el índice 0 al 3 (4 primeras filas). Notar que no es necesario especificar el índice inicial si es 0\n",
    "print(pokemons.iloc[:4])\n",
    "\n",
    "# Para leer un registro o valor en específico podemos especificar la columna y no pasar un rango de índices. Aquí leemos el valor de la segunda fila y en la segunda columna\n",
    "print(pokemons.iloc[1, 1]) "
   ]
  }
 ],
 "metadata": {
  "kernelspec": {
   "display_name": "Python 3.8.10 64-bit",
   "language": "python",
   "name": "python3"
  },
  "language_info": {
   "codemirror_mode": {
    "name": "ipython",
    "version": 3
   },
   "file_extension": ".py",
   "mimetype": "text/x-python",
   "name": "python",
   "nbconvert_exporter": "python",
   "pygments_lexer": "ipython3",
   "version": "3.8.10"
  },
  "orig_nbformat": 4,
  "vscode": {
   "interpreter": {
    "hash": "916dbcbb3f70747c44a77c7bcd40155683ae19c65e1c03b4aa3499c5328201f1"
   }
  }
 },
 "nbformat": 4,
 "nbformat_minor": 2
}
